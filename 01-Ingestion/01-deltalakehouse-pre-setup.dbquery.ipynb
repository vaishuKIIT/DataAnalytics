{
 "cells": [
  {
   "cell_type": "code",
   "execution_count": 0,
   "metadata": {
    "application/vnd.databricks.v1+cell": {
     "cellMetadata": {},
     "inputWidgets": {},
     "nuid": "374b1223-19d5-42af-9750-d154958ca272",
     "showTitle": false,
     "tableResultSettingsMap": {},
     "title": ""
    }
   },
   "outputs": [],
   "source": [
    "use catalog pricing_analytics;\n",
    "\n",
    "create schema if not exists processrunlogs;\n",
    "\n",
    "create table if not exists processrunlogs.deltalakehouse_process_runs (\n",
    "  process_name string,\n",
    "  processed_file_table_date date,\n",
    "  process_status string\n",
    ");\n",
    "\n",
    "\n",
    "alter table pricing_analytics_vrs.processrunlogs.deltalakehouse_process_runs\n",
    "add columns ( Processed_table_DateTime timestamp)"
   ]
  }
 ],
 "metadata": {
  "application/vnd.databricks.v1+notebook": {
   "computePreferences": null,
   "dashboards": [],
   "environmentMetadata": null,
   "inputWidgetPreferences": null,
   "language": "sql",
   "notebookMetadata": {
    "sqlQueryOptions": {
     "applyAutoLimit": true,
     "catalog": "databricks_ketan",
     "schema": "default"
    }
   },
   "notebookName": "01-deltalakehouse-pre-setup.dbquery.ipynb",
   "widgets": {}
  },
  "language_info": {
   "name": "sql"
  }
 },
 "nbformat": 4,
 "nbformat_minor": 0
}
