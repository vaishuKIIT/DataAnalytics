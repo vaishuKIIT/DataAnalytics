{
 "cells": [
  {
   "cell_type": "code",
   "execution_count": 0,
   "metadata": {
    "application/vnd.databricks.v1+cell": {
     "cellMetadata": {},
     "inputWidgets": {},
     "nuid": "10544ca7-8593-408c-917d-66d32f96e453",
     "showTitle": false,
     "tableResultSettingsMap": {},
     "title": ""
    }
   },
   "outputs": [],
   "source": [
    "use catalog pricing_analytics_vrs;\n",
    "\n",
    "create schema if not exists silver;\n",
    "\n",
    "drop table if exists silver.daily_pricing_silver;\n",
    "\n",
    "create table if not exists silver.daily_pricing_silver (\n",
    "DATE_OF_PRICING date,\n",
    "ROW_ID bigint,\n",
    "STATE_NAME string,\n",
    "MARKET_NAME string,\n",
    "PRODUCTGROUP_NAME string,\n",
    "PRODUCT_NAME string,\n",
    "VARIETY string,\n",
    "ORIGIN string,\n",
    "ARRIVAL_IN_TONNES decimal(18,2),\n",
    "MINIMUM_PRICE decimal(36,2),\n",
    "MAXIMUM_PRICE decimal(36,2),\n",
    "MODAL_PRICE decimal(36,2),\n",
    "source_file_load_date timestamp,\n",
    "lakehouse_inserted_date timestamp,\n",
    "lakehouse_updated_date timestamp\n",
    ")"
   ]
  }
 ],
 "metadata": {
  "application/vnd.databricks.v1+notebook": {
   "computePreferences": null,
   "dashboards": [],
   "environmentMetadata": null,
   "inputWidgetPreferences": null,
   "language": "sql",
   "notebookMetadata": {
    "sqlQueryOptions": {
     "applyAutoLimit": true,
     "catalog": "databricks_ketan",
     "schema": "default"
    }
   },
   "notebookName": "03-deltalakehouse-silverlayer-table-setup.dbquery.ipynb",
   "widgets": {}
  },
  "language_info": {
   "name": "sql"
  }
 },
 "nbformat": 4,
 "nbformat_minor": 0
}
