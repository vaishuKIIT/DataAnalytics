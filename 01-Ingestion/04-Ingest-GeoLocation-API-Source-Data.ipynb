{
 "cells": [
  {
   "cell_type": "markdown",
   "metadata": {
    "application/vnd.databricks.v1+cell": {
     "cellMetadata": {
      "byteLimit": 2048000,
      "rowLimit": 10000
     },
     "inputWidgets": {},
     "nuid": "ee7bb344-f8f6-48ce-a5db-ba7d5f055429",
     "showTitle": false,
     "tableResultSettingsMap": {},
     "title": ""
    }
   },
   "source": [
    "source API URL : \"https://geocoding-api.open-meteo.com/v1/search?name=kovilpatti&count=10&language=en&format=json\"\n",
    "\n",
    "JSON Target File Path : \"abfss://working-labs@datalakestorageaccountname.dfs.core.windows.net/bronze/geo-location/\n",
    "\""
   ]
  },
  {
   "cell_type": "code",
   "execution_count": 0,
   "metadata": {
    "application/vnd.databricks.v1+cell": {
     "cellMetadata": {
      "byteLimit": 2048000,
      "rowLimit": 10000
     },
     "inputWidgets": {},
     "nuid": "0270ac01-fcb3-447e-bb67-64479415d07e",
     "showTitle": false,
     "tableResultSettingsMap": {},
     "title": ""
    }
   },
   "outputs": [],
   "source": [
    "geoLocationSourceAPIURL = \"https://geocoding-api.open-meteo.com/v1/search?name=kovilpatti&count=10&language=en&format=json\"\n",
    "\n",
    "geoLocationSourceAPIBaseURL = \"https://geocoding-api.open-meteo.com/v1/search?name=\"\n",
    "geoLocationSourceAPIURLOptions = \"&count=10&language=en&format=json\"\n",
    "\n",
    "geoLocationSinkLayerName = 'bronze'\n",
    "geoLocationStorageAccountName = 'azuredatalakevrs'\n",
    "geoLocationSinkFolderName = 'geo-location'\n",
    "geolocationSinkFolderPath = f\"abfss://{geoLocationSinkLayerName}@{geoLocationStorageAccountName}.dfs.core.windows.net/{geoLocationSinkFolderName}\"\n"
   ]
  },
  {
   "cell_type": "code",
   "execution_count": 0,
   "metadata": {
    "application/vnd.databricks.v1+cell": {
     "cellMetadata": {
      "byteLimit": 2048000,
      "rowLimit": 10000
     },
     "inputWidgets": {},
     "nuid": "e1fd9484-b2d5-4e45-b6ff-1862affed9cf",
     "showTitle": false,
     "tableResultSettingsMap": {},
     "title": ""
    }
   },
   "outputs": [],
   "source": [
    "import requests\n",
    "import json\n",
    "import pandas as pds\n"
   ]
  },
  {
   "cell_type": "code",
   "execution_count": 0,
   "metadata": {
    "application/vnd.databricks.v1+cell": {
     "cellMetadata": {
      "byteLimit": 2048000,
      "rowLimit": 10000
     },
     "inputWidgets": {},
     "nuid": "c3b94a9b-5f33-4888-9d69-d2ad203f0000",
     "showTitle": false,
     "tableResultSettingsMap": {},
     "title": ""
    }
   },
   "outputs": [],
   "source": [
    "geoLocationAPIResponse = requests.get(geoLocationSourceAPIURL).json()\n",
    "geoLocationPandasDF = pds.DataFrame(geoLocationAPIResponse)\n",
    "geoLocationSparkDF = spark.createDataFrame(geoLocationPandasDF)\n",
    "\n"
   ]
  },
  {
   "cell_type": "code",
   "execution_count": 0,
   "metadata": {
    "application/vnd.databricks.v1+cell": {
     "cellMetadata": {
      "byteLimit": 2048000,
      "rowLimit": 10000
     },
     "inputWidgets": {},
     "nuid": "58113e75-d764-4653-af21-386ff0f61276",
     "showTitle": false,
     "tableResultSettingsMap": {},
     "title": ""
    }
   },
   "outputs": [],
   "source": [
    "dailyPricingMarketNamesDF = spark.sql(\"select Market_Name from pricing_analytics_vrs.gold.reporting_dim_market_gold\")"
   ]
  },
  {
   "cell_type": "code",
   "execution_count": 0,
   "metadata": {
    "application/vnd.databricks.v1+cell": {
     "cellMetadata": {
      "byteLimit": 2048000,
      "rowLimit": 10000
     },
     "inputWidgets": {},
     "nuid": "7fcc70b8-f5c4-40c4-ae0b-7c6a37e19a6a",
     "showTitle": false,
     "tableResultSettingsMap": {},
     "title": ""
    }
   },
   "outputs": [],
   "source": [
    "marketNames = [dailyPricingMarketNames[\"Market_Name\"] for dailyPricingMarketNames in dailyPricingMarketNamesDF.collect()]\n",
    "\n",
    "#print(marketNames)\n",
    "\n",
    "geoLocationAPIResponseList = []\n",
    "\n",
    "for marketName in marketNames:\n",
    "  print(marketName)\n",
    "  geoLocationSourceAPIURL =f\"{geoLocationSourceAPIBaseURL}{marketName}{geoLocationSourceAPIURLOptions}\"\n",
    "  geoLocationAPIResponse = requests.get(geoLocationSourceAPIURL).json()\n",
    "\n",
    "  if isinstance(geoLocationAPIResponse, dict):\n",
    "      geoLocationAPIResponseList.append(geoLocationAPIResponse)\n",
    "\n",
    "print(geoLocationAPIResponse)\n",
    "\n",
    "geoLocationSparkRDD = sc.parallelize(geoLocationAPIResponseList)\n",
    "\n",
    "geoLocationSparkDF = spark.read.json(geoLocationSparkRDD)\n",
    "\n",
    "(geoLocationSparkDF\n",
    " .filter(\"results.admin1 is not null\")\n",
    "   .write\n",
    "   .mode(\"overwrite\")\n",
    "   .json(geolocationSinkFolderPath)\n",
    ")\n",
    "  "
   ]
  },
  {
   "cell_type": "code",
   "execution_count": 0,
   "metadata": {
    "application/vnd.databricks.v1+cell": {
     "cellMetadata": {
      "byteLimit": 2048000,
      "rowLimit": 10000
     },
     "inputWidgets": {},
     "nuid": "fccd3e5d-24c6-453f-b8b2-67d6d6decbb6",
     "showTitle": false,
     "tableResultSettingsMap": {},
     "title": ""
    }
   },
   "outputs": [],
   "source": [
    "geoLocationBronzeDF = spark.read.json(geolocationSinkFolderPath)\n",
    "display(geoLocationBronzeDF)"
   ]
  }
 ],
 "metadata": {
  "application/vnd.databricks.v1+notebook": {
   "computePreferences": null,
   "dashboards": [],
   "environmentMetadata": {
    "base_environment": "",
    "environment_version": "2"
   },
   "inputWidgetPreferences": null,
   "language": "python",
   "notebookMetadata": {
    "pythonIndentUnit": 4
   },
   "notebookName": "04-Ingest-GeoLocation-API-Source-Data",
   "widgets": {}
  },
  "language_info": {
   "name": "python"
  }
 },
 "nbformat": 4,
 "nbformat_minor": 0
}
