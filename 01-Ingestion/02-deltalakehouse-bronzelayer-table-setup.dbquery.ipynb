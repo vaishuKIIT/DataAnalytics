{
 "cells": [
  {
   "cell_type": "code",
   "execution_count": 0,
   "metadata": {
    "application/vnd.databricks.v1+cell": {
     "cellMetadata": {},
     "inputWidgets": {},
     "nuid": "f52b5ace-4d83-4ab3-941a-903bb296a2ec",
     "showTitle": false,
     "tableResultSettingsMap": {},
     "title": ""
    }
   },
   "outputs": [],
   "source": [
    "use catalog pricing_analytics_vrs;\n",
    "\n",
    "create schema if not exists bronze;\n",
    "\n",
    "create table bronze.daily_pricing (\n",
    "    DATE_OF_PRICING string,\n",
    "    ROW_ID string,\n",
    "    STATE_NAME string,\n",
    "    MARKET_NAME string,\n",
    "    PRODUCTGROUP_NAME string,\n",
    "    PRODUCT_NAME string,\n",
    "    VARIETY string,\n",
    "    ORIGIN string,\n",
    "    ARRIVAL_IN_TONNES string,\n",
    "    MINIMUM_PRICE string,\n",
    "    MAXIMUM_PRICE string,\n",
    "    MODAL_PRICE string,\n",
    "    source_file_load_date timestamp\n",
    ")\n",
    "\n",
    "using csv \n",
    "options (\n",
    "  header = \"true\",\n",
    "  delimiter = \",\"\n",
    ")\n",
    "location 'abfss://bronze@azuredatalakevrs.dfs.core.windows.net/daily-pricing'\n"
   ]
  }
 ],
 "metadata": {
  "application/vnd.databricks.v1+notebook": {
   "computePreferences": null,
   "dashboards": [],
   "environmentMetadata": null,
   "inputWidgetPreferences": null,
   "language": "sql",
   "notebookMetadata": {
    "sqlQueryOptions": {
     "applyAutoLimit": true,
     "catalog": "databricks_ketan",
     "schema": "default"
    }
   },
   "notebookName": "02-deltalakehouse-bronzelayer-table-setup.dbquery.ipynb",
   "widgets": {}
  },
  "language_info": {
   "name": "sql"
  }
 },
 "nbformat": 4,
 "nbformat_minor": 0
}
