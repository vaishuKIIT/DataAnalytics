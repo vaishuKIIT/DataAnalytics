{
 "cells": [
  {
   "cell_type": "markdown",
   "metadata": {
    "application/vnd.databricks.v1+cell": {
     "cellMetadata": {
      "byteLimit": 2048000,
      "rowLimit": 10000
     },
     "inputWidgets": {},
     "nuid": "7a725e43-3ef9-457c-a79e-c33aba43c7f2",
     "showTitle": false,
     "tableResultSettingsMap": {},
     "title": ""
    }
   },
   "source": [
    "source API URL : \"https://archive-api.open-meteo.com/v1/archive?latitude=52.52&longitude=13.41&start_date=2023-01-01&end_date=2024-01-01&daily=temperature_2m_max,temperature_2m_min,rain_sum\"\n",
    "\n",
    "JSON Target File Path : \"abfss://bronze@azuredatalakevrs.dfs.core.windows.net/bronze/weather-data/\n",
    "\""
   ]
  },
  {
   "cell_type": "code",
   "execution_count": 0,
   "metadata": {
    "application/vnd.databricks.v1+cell": {
     "cellMetadata": {
      "byteLimit": 2048000,
      "rowLimit": 10000
     },
     "inputWidgets": {},
     "nuid": "d11b4578-0500-425e-a52b-0ef08985f670",
     "showTitle": false,
     "tableResultSettingsMap": {},
     "title": ""
    }
   },
   "outputs": [],
   "source": [
    "#weatherDataSourceAPIURL = \"https://archive-api.open-meteo.com/v1/archive?latitude=52.52&longitude=13.41&start_date=2023-01-01&end_date=2024-01-01&daily=temperature_2m_max,temperature_2m_min,rain_sum\"\n",
    "\n",
    "weatherDataSourceAPIBaseURL = \"https://archive-api.open-meteo.com/v1/archive?latitude=\"\n",
    "weatherDataSourceAPIURLOptions = \"&daily=temperature_2m_max,temperature_2m_min,rain_sum\"\n",
    "\n",
    "weatherDataSinkLayerName = 'bronze'\n",
    "weatherDataSinkStorageAccountName = 'azuredatalakevrs'\n",
    "weatherDataSinkFolderName = 'bronze/weather-data'\n",
    "\n",
    "weatherDataSinkFolderPath = f\"/abfss://{weatherDataSinkLayerName}@{weatherDataSinkStorageAccountName}.dfs.core.windows.net/{weatherDataSinkFolderName}\""
   ]
  },
  {
   "cell_type": "code",
   "execution_count": 0,
   "metadata": {
    "application/vnd.databricks.v1+cell": {
     "cellMetadata": {
      "byteLimit": 2048000,
      "rowLimit": 10000
     },
     "inputWidgets": {},
     "nuid": "3e53e054-f03a-45d9-90c7-f34c66486aec",
     "showTitle": false,
     "tableResultSettingsMap": {},
     "title": ""
    }
   },
   "outputs": [],
   "source": [
    "import requests\n",
    "import json\n",
    "import pandas as pds"
   ]
  },
  {
   "cell_type": "code",
   "execution_count": 0,
   "metadata": {
    "application/vnd.databricks.v1+cell": {
     "cellMetadata": {
      "byteLimit": 2048000,
      "rowLimit": 10000
     },
     "inputWidgets": {},
     "nuid": "9b233045-026a-467b-9351-10cafdfea843",
     "showTitle": false,
     "tableResultSettingsMap": {},
     "title": ""
    }
   },
   "outputs": [],
   "source": [
    "geoLocationsDF = spark.sql(\n",
    "    \"select latitude, longitude, marketName from pricing_analytics_vrs.silver.geo_location_silver limit 100\"\n",
    "    )\n",
    "display(geoLocationsDF.count())"
   ]
  },
  {
   "cell_type": "code",
   "execution_count": 0,
   "metadata": {
    "application/vnd.databricks.v1+cell": {
     "cellMetadata": {
      "byteLimit": 2048000,
      "rowLimit": 10000
     },
     "inputWidgets": {},
     "nuid": "3ef6c589-7065-49b4-a0cc-7da67d58e544",
     "showTitle": false,
     "tableResultSettingsMap": {},
     "title": ""
    }
   },
   "outputs": [],
   "source": [
    "weatherDataAPIResponseList = []\n",
    "for geoLocations in geoLocationsDF.collect():\n",
    "  #print(geoLocations[\"marketName\"],geoLocations[\"latitude\"],geoLocations[\"longitude\"])\n",
    "  weatherDataSourceAPIURL = f\"{weatherDataSourceAPIBaseURL}{geoLocations['latitude']}&longitude={geoLocations['longitude']}&start_date=2023-01-01&end_date=2023-12-31{weatherDataSourceAPIURLOptions}\"\n",
    "  weatherDataAPIResponse = requests.get(weatherDataSourceAPIURL).json()\n",
    "  weatherDataAPIResponse[\"marketName\"] = geoLocations[\"marketName\"]\n",
    "  weatherDataAPIResponseJson = json.dumps(weatherDataAPIResponse)\n",
    "  #print(weatherDataAPIResponseJson)\n",
    "  if isinstance(weatherDataAPIResponse, dict):\n",
    "   weatherDataAPIResponseList.append(weatherDataAPIResponseJson)\n",
    "\n",
    "weatherDataRDD = sc.parallelize(weatherDataAPIResponseList)\n",
    "\n",
    "weatherDataSparkDF = spark.read.json(weatherDataRDD)\n",
    "\n",
    "(weatherDataSparkDF\n",
    ".write\n",
    ".mode(\"overwrite\")\n",
    ".json(weatherDataSinkFolderPath))"
   ]
  }
 ],
 "metadata": {
  "application/vnd.databricks.v1+notebook": {
   "computePreferences": null,
   "dashboards": [],
   "environmentMetadata": {
    "base_environment": "",
    "environment_version": "2"
   },
   "inputWidgetPreferences": null,
   "language": "python",
   "notebookMetadata": {
    "pythonIndentUnit": 4
   },
   "notebookName": "05-Ingest-WeatherData-API-Source-Data",
   "widgets": {}
  },
  "language_info": {
   "name": "python"
  }
 },
 "nbformat": 4,
 "nbformat_minor": 0
}
