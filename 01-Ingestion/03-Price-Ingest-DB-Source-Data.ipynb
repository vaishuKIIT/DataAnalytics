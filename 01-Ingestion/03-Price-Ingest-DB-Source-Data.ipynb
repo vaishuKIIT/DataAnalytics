{
 "cells": [
  {
   "cell_type": "code",
   "execution_count": 0,
   "metadata": {
    "application/vnd.databricks.v1+cell": {
     "cellMetadata": {
      "byteLimit": 2048000,
      "rowLimit": 10000
     },
     "inputWidgets": {},
     "nuid": "9372dfd4-989d-424a-80a3-8b8d0b6c2d6e",
     "showTitle": false,
     "tableResultSettingsMap": {},
     "title": ""
    }
   },
   "outputs": [],
   "source": [
    "pricingReferenceSourceTableName = dbutils.widgets.get(\"prm_pricingReferenceSourceTableName\")\n",
    "\n",
    "PricingReferenceSinkLayerName = 'bronze'\n",
    "PricingReferenceSinkStorageAccountName = 'azuredatalakevrs'\n",
    "PricingReferenceSinkFolderName =  'reference-data'"
   ]
  },
  {
   "cell_type": "code",
   "execution_count": 0,
   "metadata": {
    "application/vnd.databricks.v1+cell": {
     "cellMetadata": {
      "byteLimit": 2048000,
      "rowLimit": 10000
     },
     "inputWidgets": {},
     "nuid": "00a06aab-f808-460c-a564-678a7f5ca2d5",
     "showTitle": false,
     "tableResultSettingsMap": {},
     "title": ""
    }
   },
   "outputs": [],
   "source": [
    "JDBCconnectionUrl = \"jdbc:sqlserver://asqludacoursesserver.database.windows.net;encrypt=true;databaseName=asqludacourses;user=sourcereader;password=DBReader@2024;\"\n",
    "\n",
    "pricingReferenceSourceTableDF = (spark\n",
    "                                 .read\n",
    "  .format(\"jdbc\")\n",
    "  .option(\"url\", JDBCconnectionUrl)\n",
    "  .option(\"dbtable\", pricingReferenceSourceTableName)\n",
    "  .load()\n",
    ")\n"
   ]
  },
  {
   "cell_type": "code",
   "execution_count": 0,
   "metadata": {
    "application/vnd.databricks.v1+cell": {
     "cellMetadata": {
      "byteLimit": 2048000,
      "rowLimit": 10000
     },
     "inputWidgets": {},
     "nuid": "cb8e613a-3ed1-4b15-bf7d-fc805ef376b1",
     "showTitle": false,
     "tableResultSettingsMap": {},
     "title": ""
    }
   },
   "outputs": [],
   "source": [
    "pricingReferenceSinkFolder = pricingReferenceSourceTableName.replace('.','/')"
   ]
  },
  {
   "cell_type": "code",
   "execution_count": 0,
   "metadata": {
    "application/vnd.databricks.v1+cell": {
     "cellMetadata": {
      "byteLimit": 2048000,
      "rowLimit": 10000
     },
     "inputWidgets": {},
     "nuid": "e48e05d0-adcd-42cf-ad09-1f9a99734a06",
     "showTitle": false,
     "tableResultSettingsMap": {},
     "title": ""
    }
   },
   "outputs": [],
   "source": [
    "pricingReferenceSinkFolderPath = f\"abfss://{PricingReferenceSinkLayerName}@{PricingReferenceSinkStorageAccountName}.dfs.core.windows.net/{PricingReferenceSinkFolderName}/{pricingReferenceSourceTableName}\"\n",
    "\n",
    "{\n",
    "    pricingReferenceSourceTableDF\n",
    "    .write\n",
    "    .mode(\"overwrite\")\n",
    "    .json(pricingReferenceSinkFolderPath)\n",
    "}"
   ]
  }
 ],
 "metadata": {
  "application/vnd.databricks.v1+notebook": {
   "computePreferences": null,
   "dashboards": [],
   "environmentMetadata": {
    "base_environment": "",
    "environment_version": "2"
   },
   "inputWidgetPreferences": null,
   "language": "python",
   "notebookMetadata": {
    "pythonIndentUnit": 4
   },
   "notebookName": "03-Price-Ingest-DB-Source-Data",
   "widgets": {
    "prm_pricingReferenceSourceTableName": {
     "currentValue": "masterdata.country_profile",
     "nuid": "921463dc-08f5-424b-9c02-1e6d5925e7b0",
     "typedWidgetInfo": {
      "autoCreated": false,
      "defaultValue": "",
      "label": "",
      "name": "prm_pricingReferenceSourceTableName",
      "options": {
       "widgetDisplayType": "Text",
       "validationRegex": null
      },
      "parameterDataType": "String"
     },
     "widgetInfo": {
      "widgetType": "text",
      "defaultValue": "",
      "label": "",
      "name": "prm_pricingReferenceSourceTableName",
      "options": {
       "widgetType": "text",
       "autoCreated": false,
       "validationRegex": null
      }
     }
    }
   }
  },
  "language_info": {
   "name": "python"
  }
 },
 "nbformat": 4,
 "nbformat_minor": 0
}
