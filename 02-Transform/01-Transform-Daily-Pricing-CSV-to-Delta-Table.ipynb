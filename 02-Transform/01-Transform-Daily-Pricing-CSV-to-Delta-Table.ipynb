{
 "cells": [
  {
   "cell_type": "code",
   "execution_count": 0,
   "metadata": {
    "application/vnd.databricks.v1+cell": {
     "cellMetadata": {
      "byteLimit": 2048000,
      "rowLimit": 10000
     },
     "inputWidgets": {},
     "nuid": "fc927f86-efe4-4b3a-a6a3-e22f48ed6706",
     "showTitle": false,
     "tableResultSettingsMap": {},
     "title": ""
    }
   },
   "outputs": [],
   "source": [
    "use catalog pricing_analytics_vrs;\n",
    "insert into silver.daily_pricing_silver\n",
    "select\n",
    "to_date(DATE_OF_PRICING, 'dd/MM/yyyy'),\n",
    "cast(ROW_ID as bigint),\n",
    "STATE_NAME,\n",
    "MARKET_NAME,\n",
    "PRODUCTGROUP_NAME,\n",
    "PRODUCT_NAME,\n",
    "VARIETY,\n",
    "ORIGIN,\n",
    "cast(ARRIVAL_IN_TONNES as decimal(18,2)),\n",
    "cast(MINIMUM_PRICE as decimal(36,2)),\n",
    "cast(MAXIMUM_PRICE as decimal(36,2)),\n",
    "cast(MODAL_PRICE as decimal(36,2)),\n",
    "source_file_load_date,\n",
    "current_timestamp(),\n",
    "current_timestamp()\n",
    "from pricing_analytics_vrs.bronze.daily_pricing\n",
    "where source_file_load_date > (select nvl(max(processed_table_dateTime),'1900-01-01') from processrunlogs.deltalakehouse_process_runs where process_name = 'daily_pricing_silver' and process_status = 'completed') "
   ]
  },
  {
   "cell_type": "code",
   "execution_count": 0,
   "metadata": {
    "application/vnd.databricks.v1+cell": {
     "cellMetadata": {
      "byteLimit": 2048000,
      "rowLimit": 10000
     },
     "inputWidgets": {},
     "nuid": "60a86346-b314-4f88-b119-809e4079e4b0",
     "showTitle": false,
     "tableResultSettingsMap": {},
     "title": ""
    }
   },
   "outputs": [],
   "source": [
    "insert into pricing_analytics_vrs.processrunlogs.deltalakehouse_process_runs (\n",
    "  process_name, processed_table_dateTime, process_status)\n",
    "select 'daily_pricing_silver', max(source_file_load_date), 'completed' from pricing_analytics_vrs.silver.daily_pricing_silver"
   ]
  },
  {
   "cell_type": "code",
   "execution_count": 0,
   "metadata": {
    "application/vnd.databricks.v1+cell": {
     "cellMetadata": {
      "byteLimit": 2048000,
      "rowLimit": 10000
     },
     "inputWidgets": {},
     "nuid": "d4418e14-6ac9-4083-b3dc-214ccadcb01c",
     "showTitle": false,
     "tableResultSettingsMap": {},
     "title": ""
    }
   },
   "outputs": [],
   "source": [
    "select * from pricing_analytics_vrs.processrunlogs.deltalakehouse_process_runs limit 10"
   ]
  }
 ],
 "metadata": {
  "application/vnd.databricks.v1+notebook": {
   "computePreferences": null,
   "dashboards": [],
   "environmentMetadata": {
    "base_environment": "",
    "environment_version": "2"
   },
   "inputWidgetPreferences": null,
   "language": "sql",
   "notebookMetadata": {
    "pythonIndentUnit": 4
   },
   "notebookName": "01-Transform-Daily-Pricing-CSV-to-Delta-Table",
   "widgets": {}
  },
  "language_info": {
   "name": "sql"
  }
 },
 "nbformat": 4,
 "nbformat_minor": 0
}
