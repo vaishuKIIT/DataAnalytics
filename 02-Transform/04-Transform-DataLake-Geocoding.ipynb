{
 "cells": [
  {
   "cell_type": "markdown",
   "metadata": {
    "application/vnd.databricks.v1+cell": {
     "cellMetadata": {},
     "inputWidgets": {},
     "nuid": "52e1c7ba-159c-4d07-ba14-e9f814ce5c5b",
     "showTitle": false,
     "tableResultSettingsMap": {},
     "title": ""
    }
   },
   "source": [
    "GeoLocation JSON Source File Path : \"abfss://bronze@azuredatalakevrs.dfs.core.windows.net/geo-location/\n",
    "\""
   ]
  },
  {
   "cell_type": "code",
   "execution_count": 0,
   "metadata": {
    "application/vnd.databricks.v1+cell": {
     "cellMetadata": {
      "byteLimit": 2048000,
      "rowLimit": 10000
     },
     "inputWidgets": {},
     "nuid": "bbadccf3-c1c7-4ab3-994a-8e4000821128",
     "showTitle": false,
     "tableResultSettingsMap": {},
     "title": ""
    }
   },
   "outputs": [],
   "source": [
    "geoLocationSourceLayerName = 'bronze'\n",
    "geoLocationSourceStorageAccountName = 'azuredatalakevrs'\n",
    "geoLocationSourceFolderName = 'geo-location'\n",
    "\n",
    "geoLocationSourceFolderPath = f\"abfss://{geoLocationSourceLayerName}@{geoLocationSourceStorageAccountName}.dfs.core.windows.net/{geoLocationSourceFolderName}/\""
   ]
  },
  {
   "cell_type": "code",
   "execution_count": 0,
   "metadata": {
    "application/vnd.databricks.v1+cell": {
     "cellMetadata": {
      "byteLimit": 2048000,
      "rowLimit": 10000
     },
     "inputWidgets": {},
     "nuid": "5f31620a-5e1f-42b2-9d39-fa091093eb32",
     "showTitle": false,
     "tableResultSettingsMap": {},
     "title": ""
    }
   },
   "outputs": [],
   "source": [
    "geoLocationBronzeDF = spark.read.json(geoLocationSourceFolderPath)\n",
    "\n",
    "display(geoLocationBronzeDF)"
   ]
  },
  {
   "cell_type": "code",
   "execution_count": 0,
   "metadata": {
    "application/vnd.databricks.v1+cell": {
     "cellMetadata": {
      "byteLimit": 2048000,
      "rowLimit": 10000
     },
     "inputWidgets": {},
     "nuid": "a0623b59-ce18-4153-a0c5-b344d0edd1f7",
     "showTitle": false,
     "tableResultSettingsMap": {},
     "title": ""
    }
   },
   "outputs": [],
   "source": [
    "from pyspark.sql.functions import *\n",
    "\n",
    "geoLocationSilverDF = ( geoLocationBronzeDF\n",
    "                       .select(\n",
    "                           col('results.admin1').alias('stateName'),\n",
    "                           col ('results.admin2').alias('districtName'),\n",
    "                           col('results.country').alias('countryName'),\n",
    "                           col('results.latitude').alias('latitude'),\n",
    "                           col('results.longitude').alias('longitude'),\n",
    "                           col('results.name').alias('marketName'),\n",
    "                           col('results.population').alias('population')\n",
    "                       )\n",
    "                    )\n",
    "\n",
    "display(geoLocationSilverDF)"
   ]
  },
  {
   "cell_type": "code",
   "execution_count": 0,
   "metadata": {
    "application/vnd.databricks.v1+cell": {
     "cellMetadata": {
      "byteLimit": 2048000,
      "rowLimit": 10000
     },
     "inputWidgets": {},
     "nuid": "5efdb5d9-6157-41ef-9b20-de356c7a9860",
     "showTitle": false,
     "tableResultSettingsMap": {},
     "title": ""
    }
   },
   "outputs": [],
   "source": [
    "geoLocationStateTransDF = (\n",
    "    geoLocationSilverDF\n",
    "    .select(explode(\"stateName\").alias('stateName'),\n",
    "            monotonically_increasing_id().alias('stateSequenceId')\n",
    "    )\n",
    ")"
   ]
  },
  {
   "cell_type": "code",
   "execution_count": 0,
   "metadata": {
    "application/vnd.databricks.v1+cell": {
     "cellMetadata": {
      "byteLimit": 2048000,
      "rowLimit": 10000
     },
     "inputWidgets": {},
     "nuid": "46f50b1e-003b-4ede-82a7-7819a7472225",
     "showTitle": false,
     "tableResultSettingsMap": {},
     "title": ""
    }
   },
   "outputs": [],
   "source": [
    "geoLocationDistrictTransDF = (\n",
    "    geoLocationSilverDF\n",
    "    .select(explode(\"districtName\").alias('districtName'),\n",
    "             monotonically_increasing_id().alias('districtSequenceId')\n",
    "    \n",
    "    ))\n"
   ]
  },
  {
   "cell_type": "code",
   "execution_count": 0,
   "metadata": {
    "application/vnd.databricks.v1+cell": {
     "cellMetadata": {
      "byteLimit": 2048000,
      "rowLimit": 10000
     },
     "inputWidgets": {},
     "nuid": "3e7d4322-105a-40b2-ab00-1a913d79f10e",
     "showTitle": false,
     "tableResultSettingsMap": {},
     "title": ""
    }
   },
   "outputs": [],
   "source": [
    "geoLocationDistrictTransDF = (\n",
    "    geoLocationSilverDF\n",
    "    .select(explode(\"districtName\").alias('districtName'),\n",
    "            monotonically_increasing_id().alias('districtSequenceId')\n",
    "    )\n",
    ")\n",
    "geoLocationCountryTransDF = (\n",
    "    geoLocationSilverDF\n",
    "    .select(explode(\"countryName\").alias('countryName'),\n",
    "            monotonically_increasing_id().alias('countrySequenceId')\n",
    "    )\n",
    "    )\n",
    "geoLocationLatitudeTransDF = (\n",
    "    geoLocationSilverDF\n",
    "    .select(explode(\"latitude\").alias('latitude'),\n",
    "            monotonically_increasing_id().alias('latitudeSequenceId')\n",
    "    ))\n",
    "geoLocationLongitudeTransDF = (\n",
    "    geoLocationSilverDF\n",
    "    .select(explode(\"longitude\").alias('longitude'),\n",
    "            monotonically_increasing_id().alias('longitudeSequenceId')\n",
    "    ))\n",
    "geoLocationMarketTransDF = (\n",
    "    geoLocationSilverDF\n",
    "    .select(explode(\"marketName\").alias('marketName'),\n",
    "            monotonically_increasing_id().alias('marketSequenceId')\n",
    "    ))\n",
    "geoLocationPopulationTransDF = (\n",
    "    geoLocationSilverDF\n",
    "    .select(explode(\"population\").alias('population'),\n",
    "            monotonically_increasing_id().alias('populationSequenceId')\n",
    "    ))"
   ]
  },
  {
   "cell_type": "code",
   "execution_count": 0,
   "metadata": {
    "application/vnd.databricks.v1+cell": {
     "cellMetadata": {
      "byteLimit": 2048000,
      "rowLimit": 10000
     },
     "inputWidgets": {},
     "nuid": "fa01f141-9bd8-4807-8039-f172ef03f3d1",
     "showTitle": false,
     "tableResultSettingsMap": {},
     "title": ""
    }
   },
   "outputs": [],
   "source": [
    "geoLocationSilverTransDF = (\n",
    "    geoLocationStateTransDF\n",
    "    .join(geoLocationDistrictTransDF, col(\"stateSequenceId\") == col(\"districtSequenceId\"))\n",
    "    .join(geoLocationCountryTransDF, col(\"stateSequenceId\") == col(\"countrySequenceId\"))\n",
    "    .join(geoLocationLatitudeTransDF, col(\"stateSequenceId\") == col(\"latitudeSequenceId\"))\n",
    "    .join(geoLocationLongitudeTransDF, col(\"stateSequenceId\") == col(\"longitudeSequenceId\"))\n",
    "    .join(geoLocationMarketTransDF, col(\"stateSequenceId\") == col(\"marketSequenceId\"))\n",
    "    .join(geoLocationPopulationTransDF, col(\"stateSequenceId\") == col(\"populationSequenceId\"))\n",
    "    .select(col(\"stateName\"),\n",
    "            col(\"districtName\"),\n",
    "            col(\"countryName\"),\n",
    "            col(\"latitude\"),\n",
    "            col(\"longitude\"),\n",
    "            col(\"marketName\"),\n",
    "            col(\"population\")\n",
    "            )\n",
    "    )\n",
    "display(geoLocationSilverTransDF)"
   ]
  },
  {
   "cell_type": "code",
   "execution_count": 0,
   "metadata": {
    "application/vnd.databricks.v1+cell": {
     "cellMetadata": {
      "byteLimit": 2048000,
      "rowLimit": 10000
     },
     "inputWidgets": {},
     "nuid": "9ff8ff5f-444d-493d-ae58-cf318e413847",
     "showTitle": false,
     "tableResultSettingsMap": {},
     "title": ""
    }
   },
   "outputs": [],
   "source": [
    "(geoLocationSilverTransDF\n",
    " .write\n",
    " .mode(\"overwrite\")\n",
    " .saveAsTable(\"pricing_analytics_vrs.silver.geo_location_silver\"))"
   ]
  },
  {
   "cell_type": "code",
   "execution_count": 0,
   "metadata": {
    "application/vnd.databricks.v1+cell": {
     "cellMetadata": {
      "byteLimit": 2048000,
      "implicitDf": true,
      "rowLimit": 10000
     },
     "inputWidgets": {},
     "nuid": "8367585f-f5da-4f28-a1a1-1229bda03577",
     "showTitle": false,
     "tableResultSettingsMap": {},
     "title": ""
    }
   },
   "outputs": [],
   "source": [
    "%sql\n",
    "select * from pricing_analytics_vrs.silver.geo_location_silver geolocation\n",
    "where geolocation.marketName = 'Guntur'"
   ]
  },
  {
   "cell_type": "code",
   "execution_count": 0,
   "metadata": {
    "application/vnd.databricks.v1+cell": {
     "cellMetadata": {
      "byteLimit": 2048000,
      "implicitDf": true,
      "rowLimit": 10000
     },
     "inputWidgets": {},
     "nuid": "2ee652ed-7e39-492d-988e-52594b8b4335",
     "showTitle": false,
     "tableResultSettingsMap": {},
     "title": ""
    }
   },
   "outputs": [],
   "source": [
    "%sql\n",
    "select * from pricing_analytics_vrs.silver.daily_pricing_silver dailyPricing\n",
    "where dailyPricing.MARKET_NAME = 'Guntur'"
   ]
  }
 ],
 "metadata": {
  "application/vnd.databricks.v1+notebook": {
   "computePreferences": null,
   "dashboards": [],
   "environmentMetadata": {
    "base_environment": "",
    "environment_version": "2"
   },
   "inputWidgetPreferences": null,
   "language": "python",
   "notebookMetadata": {
    "mostRecentlyExecutedCommandWithImplicitDF": {
     "commandId": 8251005107010978,
     "dataframes": [
      "_sqldf"
     ]
    },
    "pythonIndentUnit": 4
   },
   "notebookName": "04-Transform-DataLake-Geocoding",
   "widgets": {}
  },
  "language_info": {
   "name": "python"
  }
 },
 "nbformat": 4,
 "nbformat_minor": 0
}
