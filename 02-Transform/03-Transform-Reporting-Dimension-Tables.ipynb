{
 "cells": [
  {
   "cell_type": "markdown",
   "metadata": {
    "application/vnd.databricks.v1+cell": {
     "cellMetadata": {
      "byteLimit": 2048000,
      "rowLimit": 10000
     },
     "inputWidgets": {},
     "nuid": "0cd5d717-4b70-4e8d-b60b-49d127d43bf6",
     "showTitle": false,
     "tableResultSettingsMap": {},
     "title": ""
    }
   },
   "source": [
    "| SOURCE_TABLE_NAME | SOURCE_COLUMN_NAME | REPORTING_TABLE_NAME | REPORTING_COLUMN_NAME | TRANSFORMATION RULE | CONDITIONS |\n",
    "| --- | --- |--- | --- |--- |--- |\n",
    "| silver.daily_pricing_silver\t| state_name\t|***REPORTING_DIM_STATE_GOLD***\t|***STATE_NAME***\t| Select Unique state_name Values | Identify New/Changed Records From the Source Table . Use ***lakehouse_updated_date Column*** in source table to Identify New/Changed Records|\n",
    "| DERIVED\t| DERIVED\t|***REPORTING_DIM_STATE_GOLD***\t| ***STATE_ID***\t| Generate Running Sequnece ID For Each Unique state_name Values | 1. Make Sure No Duplicate State_Name Values Loaded 2.  When loading new State_Name values in subsquent run , STATE_ID values need to be generated on top of existing MAX(STATE_ID)   |\n",
    "| DERIVED\t| DERIVED\t|***REPORTING_DIM_STATE_GOLD***\t| ***lakehouse_inserted_date***\t| Load current_timestamp() | |\n",
    "| DERIVED\t| DERIVED\t|***REPORTING_DIM_STATE_GOLD***\t| ***lakehouse_updated_date***\t| Load current_timestamp() | |"
   ]
  },
  {
   "cell_type": "code",
   "execution_count": 0,
   "metadata": {
    "application/vnd.databricks.v1+cell": {
     "cellMetadata": {
      "byteLimit": 2048000,
      "rowLimit": 10000
     },
     "inputWidgets": {},
     "nuid": "3427806b-ce55-4b26-9afc-37c5256bba92",
     "showTitle": false,
     "tableResultSettingsMap": {},
     "title": ""
    }
   },
   "outputs": [],
   "source": [
    "USE CATALOG pricing_analytics_vrs;\n",
    "\n",
    "CREATE OR REPLACE TABLE silver.reporting_dim_state_stage_1 AS\n",
    "SELECT \n",
    " DISTINCT STATE_NAME\n",
    "FROM silver.daily_pricing_silver\n",
    "WHERE lakehouse_updated_date > (SELECT nvl(max(PROCESSED_TABLE_DATETIME),'1900-01-01') FROM processrunlogs.DELTALAKEHOUSE_PROCESS_RUNS \n",
    "WHERE process_name = 'reportingDimensionTablesLoad' AND process_status = 'Completed' )\n"
   ]
  },
  {
   "cell_type": "code",
   "execution_count": 0,
   "metadata": {
    "application/vnd.databricks.v1+cell": {
     "cellMetadata": {
      "byteLimit": 2048000,
      "rowLimit": 10000
     },
     "inputWidgets": {},
     "nuid": "f88448c5-5010-4588-a2d4-394c0946ee1a",
     "showTitle": false,
     "tableResultSettingsMap": {},
     "title": ""
    }
   },
   "outputs": [],
   "source": [
    "CREATE OR REPLACE TABLE silver.reporting_dim_state_stage_2 AS \n",
    "SELECT \n",
    "  silverDim.STATE_NAME\n",
    " ,ROW_NUMBER() OVER (  ORDER BY silverDim.STATE_NAME)  as STATE_ID\n",
    " ,current_timestamp() as lakehouse_inserted_date\n",
    " ,current_timestamp() as lakehouse_updated_date\n",
    "FROM silver.reporting_dim_state_stage_1 silverDim\n",
    "LEFT OUTER JOIN gold.reporting_dim_state_gold goldDim\n",
    "ON silverDim.STATE_NAME = goldDim.STATE_NAME\n",
    "WHERE goldDim.STATE_NAME IS NULL"
   ]
  },
  {
   "cell_type": "code",
   "execution_count": 0,
   "metadata": {
    "application/vnd.databricks.v1+cell": {
     "cellMetadata": {
      "byteLimit": 2048000,
      "rowLimit": 10000
     },
     "inputWidgets": {},
     "nuid": "3fa2985b-34fc-4265-b01f-7dbe79094b64",
     "showTitle": false,
     "tableResultSettingsMap": {},
     "title": ""
    }
   },
   "outputs": [],
   "source": [
    "\n",
    "CREATE OR REPLACE TABLE silver.reporting_dim_state_stage_3 AS\n",
    "SELECT\n",
    "silverDim.STATE_NAME \n",
    ",silverDim.STATE_ID + PREV_MAX_SK_ID as STATE_ID\n",
    ",current_timestamp() as lakehouse_inserted_date\n",
    ",current_timestamp() as lakehouse_updated_date\n",
    "FROM \n",
    "silver.reporting_dim_state_stage_2 silverDim\n",
    "CROSS JOIN (SELECT NVL(MAX(STATE_ID),0) as PREV_MAX_SK_ID FROM gold.reporting_dim_state_gold ) goldDim"
   ]
  },
  {
   "cell_type": "code",
   "execution_count": 0,
   "metadata": {
    "application/vnd.databricks.v1+cell": {
     "cellMetadata": {
      "byteLimit": 2048000,
      "rowLimit": 10000
     },
     "inputWidgets": {},
     "nuid": "3399e00d-9d8f-4bdc-a86a-965f3ac9cddc",
     "showTitle": false,
     "tableResultSettingsMap": {},
     "title": ""
    }
   },
   "outputs": [],
   "source": [
    "INSERT INTO gold.reporting_dim_state_gold\n",
    "SELECT\n",
    "STATE_NAME\n",
    ",STATE_ID\n",
    ",current_timestamp()\n",
    ",current_timestamp() \n",
    "From silver.reporting_dim_state_stage_3"
   ]
  },
  {
   "cell_type": "code",
   "execution_count": 0,
   "metadata": {
    "application/vnd.databricks.v1+cell": {
     "cellMetadata": {
      "byteLimit": 2048000,
      "rowLimit": 10000
     },
     "inputWidgets": {},
     "nuid": "9f9d5ad0-111a-4e94-8241-e0a6a7c4845c",
     "showTitle": false,
     "tableResultSettingsMap": {},
     "title": ""
    }
   },
   "outputs": [],
   "source": [
    "USE CATALOG pricing_analytics_vrs;\n",
    "CREATE OR REPLACE TABLE silver.reporting_dim_market_stage_1 AS\n",
    "SELECT \n",
    " DISTINCT MARKET_NAME\n",
    "FROM silver.daily_pricing_silver\n",
    "WHERE lakehouse_updated_date > (SELECT nvl(max(PROCESSED_TABLE_DATETIME),'1900-01-01') FROM processrunlogs.DELTALAKEHOUSE_PROCESS_RUNS \n",
    "WHERE process_name = 'reportingDimensionTablesLoad' AND process_status = 'Completed' )"
   ]
  },
  {
   "cell_type": "code",
   "execution_count": 0,
   "metadata": {
    "application/vnd.databricks.v1+cell": {
     "cellMetadata": {
      "byteLimit": 2048000,
      "rowLimit": 10000
     },
     "inputWidgets": {},
     "nuid": "b75c32ca-47c5-4aab-a581-d6481c0fccb7",
     "showTitle": false,
     "tableResultSettingsMap": {},
     "title": ""
    }
   },
   "outputs": [],
   "source": [
    "CREATE OR REPLACE TABLE silver.reporting_dim_market_stage_2 AS \n",
    "SELECT \n",
    "  silverDim.MARKET_NAME\n",
    " ,ROW_NUMBER() OVER (  ORDER BY silverDim.MARKET_NAME)  as MARKET_ID\n",
    " ,current_timestamp() as lakehouse_inserted_date\n",
    " ,current_timestamp() as lakehouse_updated_date\n",
    "FROM silver.reporting_dim_market_stage_1 silverDim\n",
    "LEFT OUTER JOIN gold.reporting_dim_market_gold goldDim\n",
    "ON silverDim.MARKET_NAME = goldDim.MARKET_NAME\n",
    "WHERE goldDim.MARKET_NAME IS NULL;\n"
   ]
  },
  {
   "cell_type": "code",
   "execution_count": 0,
   "metadata": {
    "application/vnd.databricks.v1+cell": {
     "cellMetadata": {
      "byteLimit": 2048000,
      "rowLimit": 10000
     },
     "inputWidgets": {},
     "nuid": "0e22ef99-bf9e-4462-801f-34537785686d",
     "showTitle": false,
     "tableResultSettingsMap": {},
     "title": ""
    }
   },
   "outputs": [],
   "source": [
    "CREATE OR REPLACE TABLE silver.reporting_dim_market_stage_3 AS \n",
    "SELECT\n",
    "silverDim.MARKET_NAME \n",
    ",silverDim.MARKET_ID + PREV_MAX_SK_ID as MARKET_ID\n",
    ",current_timestamp() as lakehouse_inserted_date\n",
    ",current_timestamp() as lakehouse_updated_date\n",
    "FROM \n",
    "silver.reporting_dim_market_stage_2 silverDim\n",
    "CROSS JOIN (SELECT NVL(MAX(MARKET_ID),0) as PREV_MAX_SK_ID FROM gold.reporting_dim_market_gold ) goldDim;"
   ]
  },
  {
   "cell_type": "code",
   "execution_count": 0,
   "metadata": {
    "application/vnd.databricks.v1+cell": {
     "cellMetadata": {
      "byteLimit": 2048000,
      "rowLimit": 10000
     },
     "inputWidgets": {},
     "nuid": "6e1bb337-9bb0-48b9-83e7-f5aba45e3f1b",
     "showTitle": false,
     "tableResultSettingsMap": {},
     "title": ""
    }
   },
   "outputs": [],
   "source": [
    "INSERT INTO gold.reporting_dim_market_gold\n",
    "SELECT\n",
    "MARKET_NAME\n",
    ",MARKET_ID\n",
    ",current_timestamp() \n",
    ",current_timestamp() \n",
    "FROM silver.reporting_dim_market_stage_3;"
   ]
  },
  {
   "cell_type": "code",
   "execution_count": 0,
   "metadata": {
    "application/vnd.databricks.v1+cell": {
     "cellMetadata": {
      "byteLimit": 2048000,
      "rowLimit": 10000
     },
     "inputWidgets": {},
     "nuid": "0ef23ad1-2668-4737-85d5-d655d6730d61",
     "showTitle": false,
     "tableResultSettingsMap": {},
     "title": ""
    }
   },
   "outputs": [],
   "source": [
    "CREATE OR REPLACE TABLE silver.reporting_dim_variety_stage_1 AS\n",
    "SELECT \n",
    " DISTINCT VARIETY\n",
    "FROM silver.daily_pricing_silver\n",
    "WHERE lakehouse_updated_date > (SELECT nvl(max(PROCESSED_TABLE_DATETIME),'1900-01-01') FROM processrunlogs.DELTALAKEHOUSE_PROCESS_RUNS \n",
    "WHERE process_name = 'reportingDimensionTablesLoad' AND process_status = 'Completed' );\n"
   ]
  },
  {
   "cell_type": "code",
   "execution_count": 0,
   "metadata": {
    "application/vnd.databricks.v1+cell": {
     "cellMetadata": {
      "byteLimit": 2048000,
      "rowLimit": 10000
     },
     "inputWidgets": {},
     "nuid": "4b427fb2-a21c-4a3c-bfd9-cba6728b03cd",
     "showTitle": false,
     "tableResultSettingsMap": {},
     "title": ""
    }
   },
   "outputs": [],
   "source": [
    "CREATE OR REPLACE TABLE silver.reporting_dim_variety_stage_2 AS \n",
    "SELECT \n",
    "  silverDim.VARIETY\n",
    " ,ROW_NUMBER() OVER (  ORDER BY silverDim.VARIETY)  as VARIETY_ID\n",
    " ,current_timestamp() as lakehouse_inserted_date\n",
    " ,current_timestamp() as lakehouse_updated_date\n",
    "FROM silver.reporting_dim_variety_stage_1 silverDim\n",
    "LEFT OUTER JOIN gold.reporting_dim_variety_gold goldDim\n",
    "ON silverDim.VARIETY= goldDim.VARIETY\n",
    "WHERE goldDim.VARIETY IS NULL;"
   ]
  },
  {
   "cell_type": "code",
   "execution_count": 0,
   "metadata": {
    "application/vnd.databricks.v1+cell": {
     "cellMetadata": {
      "byteLimit": 2048000,
      "rowLimit": 10000
     },
     "inputWidgets": {},
     "nuid": "3a17ea4f-30c4-4174-836c-102b4c846dcb",
     "showTitle": false,
     "tableResultSettingsMap": {},
     "title": ""
    }
   },
   "outputs": [],
   "source": [
    "CREATE OR REPLACE TABLE silver.reporting_dim_variety_stage_3 AS \n",
    "SELECT\n",
    "silverDim.VARIETY \n",
    ",silverDim.VARIETY_ID + PREV_MAX_SK_ID as VARIETY_ID\n",
    ",PREV_MAX_SK_ID\n",
    ",current_timestamp() as lakehouse_inserted_date\n",
    ",current_timestamp() as lakehouse_updated_date\n",
    "FROM \n",
    "silver.reporting_dim_variety_stage_2 silverDim\n",
    "CROSS JOIN (SELECT nvl(MAX(VARIETY_ID),0) as PREV_MAX_SK_ID FROM gold.reporting_dim_variety_gold ) goldDim;\n",
    "\n"
   ]
  },
  {
   "cell_type": "code",
   "execution_count": 0,
   "metadata": {
    "application/vnd.databricks.v1+cell": {
     "cellMetadata": {
      "byteLimit": 2048000,
      "rowLimit": 10000
     },
     "inputWidgets": {},
     "nuid": "00385fbe-23de-4b85-9451-4d749c662bc2",
     "showTitle": false,
     "tableResultSettingsMap": {},
     "title": ""
    }
   },
   "outputs": [],
   "source": [
    "INSERT INTO gold.reporting_dim_variety_gold\n",
    "SELECT\n",
    "VARIETY\n",
    ",VARIETY_ID\n",
    ",current_timestamp() \n",
    ",current_timestamp() \n",
    "FROM silver.reporting_dim_variety_stage_3"
   ]
  },
  {
   "cell_type": "code",
   "execution_count": 0,
   "metadata": {
    "application/vnd.databricks.v1+cell": {
     "cellMetadata": {
      "byteLimit": 2048000,
      "rowLimit": 10000
     },
     "inputWidgets": {},
     "nuid": "63d0e121-5c3a-4820-8a74-bfb964c26b83",
     "showTitle": false,
     "tableResultSettingsMap": {},
     "title": ""
    }
   },
   "outputs": [],
   "source": [
    "CREATE OR REPLACE TABLE silver.reporting_dim_product_stage_1 AS\n",
    "SELECT \n",
    " DISTINCT PRODUCT_NAME\n",
    " ,PRODUCTGROUP_NAME\n",
    "FROM silver.daily_pricing_silver\n",
    "WHERE lakehouse_updated_date > (SELECT nvl(max(PROCESSED_TABLE_DATETIME),'1900-01-01') FROM processrunlogs.DELTALAKEHOUSE_PROCESS_RUNS \n",
    "WHERE process_name = 'reportingDimensionTablesLoad' AND process_status = 'Completed' );"
   ]
  },
  {
   "cell_type": "code",
   "execution_count": 0,
   "metadata": {
    "application/vnd.databricks.v1+cell": {
     "cellMetadata": {
      "byteLimit": 2048000,
      "rowLimit": 10000
     },
     "inputWidgets": {},
     "nuid": "22d1116d-5610-4f34-96f1-b2133eed9fc5",
     "showTitle": false,
     "tableResultSettingsMap": {},
     "title": ""
    }
   },
   "outputs": [],
   "source": [
    "CREATE OR REPLACE TABLE silver.reporting_dim_product_stage_2 AS \n",
    "SELECT \n",
    "  silverDim.PRODUCT_NAME\n",
    "  ,silverDim.PRODUCTGROUP_NAME\n",
    " ,ROW_NUMBER() OVER (  ORDER BY silverDim.PRODUCT_NAME,silverDim.PRODUCTGROUP_NAME)  as PRODUCT_ID\n",
    " ,current_timestamp() as lakehouse_inserted_date\n",
    " ,current_timestamp() as lakehouse_updated_date\n",
    "FROM silver.reporting_dim_product_stage_1 silverDim\n",
    "LEFT OUTER JOIN gold.reporting_dim_product_gold goldDim\n",
    "ON silverDim.PRODUCT_NAME= goldDim.PRODUCT_NAME\n",
    "AND silverDim.PRODUCTGROUP_NAME = goldDim.PRODUCTGROUP_NAME\n",
    "WHERE goldDim.PRODUCT_NAME IS NULL;"
   ]
  },
  {
   "cell_type": "code",
   "execution_count": 0,
   "metadata": {
    "application/vnd.databricks.v1+cell": {
     "cellMetadata": {
      "byteLimit": 2048000,
      "rowLimit": 10000
     },
     "inputWidgets": {},
     "nuid": "b7683f10-5abe-4a90-b28d-9c1277890a17",
     "showTitle": false,
     "tableResultSettingsMap": {},
     "title": ""
    }
   },
   "outputs": [],
   "source": [
    "CREATE OR REPLACE TABLE silver.reporting_dim_product_stage_3 AS \n",
    "SELECT\n",
    "  silverDim.PRODUCT_NAME\n",
    "  ,silverDim.PRODUCTGROUP_NAME\n",
    ",silverDim.PRODUCT_ID + PREV_MAX_SK_ID as PRODUCT_ID\n",
    ",PREV_MAX_SK_ID\n",
    ",current_timestamp() as lakehouse_inserted_date\n",
    ",current_timestamp() as lakehouse_updated_date\n",
    "FROM \n",
    "silver.reporting_dim_product_stage_2 silverDim\n",
    "CROSS JOIN (SELECT nvl(MAX(PRODUCT_ID),0) as PREV_MAX_SK_ID FROM gold.reporting_dim_product_gold ) goldDim;"
   ]
  },
  {
   "cell_type": "code",
   "execution_count": 0,
   "metadata": {
    "application/vnd.databricks.v1+cell": {
     "cellMetadata": {
      "byteLimit": 2048000,
      "rowLimit": 10000
     },
     "inputWidgets": {},
     "nuid": "7f57e6c9-0de3-4c84-a791-0409475aab2a",
     "showTitle": false,
     "tableResultSettingsMap": {},
     "title": ""
    }
   },
   "outputs": [],
   "source": [
    "INSERT INTO gold.reporting_dim_product_gold\n",
    "SELECT\n",
    " PRODUCTGROUP_NAME\n",
    ",PRODUCT_NAME\n",
    ",PRODUCT_ID\n",
    ",current_timestamp() \n",
    ",current_timestamp() \n",
    "FROM silver.reporting_dim_product_stage_3"
   ]
  },
  {
   "cell_type": "code",
   "execution_count": 0,
   "metadata": {
    "application/vnd.databricks.v1+cell": {
     "cellMetadata": {
      "byteLimit": 2048000,
      "rowLimit": 10000
     },
     "inputWidgets": {},
     "nuid": "43b54de0-9c5e-47e3-9f01-e376c5fe20a3",
     "showTitle": false,
     "tableResultSettingsMap": {},
     "title": ""
    }
   },
   "outputs": [],
   "source": [
    "INSERT INTO  processrunlogs.DELTALAKEHOUSE_PROCESS_RUNS(PROCESS_NAME,PROCESSED_TABLE_DATETIME,PROCESS_STATUS)\n",
    "SELECT 'reportingDimensionTablesLoad' , max(lakehouse_updated_date) ,'Completed' FROM silver.daily_pricing_silver"
   ]
  }
 ],
 "metadata": {
  "application/vnd.databricks.v1+notebook": {
   "computePreferences": null,
   "dashboards": [],
   "environmentMetadata": {
    "base_environment": "",
    "environment_version": "1"
   },
   "inputWidgetPreferences": null,
   "language": "sql",
   "notebookMetadata": {
    "pythonIndentUnit": 4
   },
   "notebookName": "03-Transform-Reporting-Dimension-Tables",
   "widgets": {}
  },
  "language_info": {
   "name": "sql"
  }
 },
 "nbformat": 4,
 "nbformat_minor": 0
}
