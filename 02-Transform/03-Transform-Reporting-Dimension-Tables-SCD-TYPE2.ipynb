{
 "cells": [
  {
   "cell_type": "code",
   "execution_count": 0,
   "metadata": {
    "application/vnd.databricks.v1+cell": {
     "cellMetadata": {
      "byteLimit": 2048000,
      "rowLimit": 10000
     },
     "inputWidgets": {},
     "nuid": "3b074a50-5430-4f63-8be3-0a67892e06a2",
     "showTitle": false,
     "tableResultSettingsMap": {},
     "title": ""
    }
   },
   "outputs": [],
   "source": [
    "SELECT * FROM pricing_analytics_vrs.gold.reporting_dim_product_gold_SCDTYPE1\n",
    "WHERE PRODUCT_NAME='Banana'"
   ]
  },
  {
   "cell_type": "code",
   "execution_count": 0,
   "metadata": {
    "application/vnd.databricks.v1+cell": {
     "cellMetadata": {
      "byteLimit": 2048000,
      "rowLimit": 10000
     },
     "inputWidgets": {},
     "nuid": "4c899308-6695-42ae-8dd2-e30db799b6a2",
     "showTitle": false,
     "tableResultSettingsMap": {},
     "title": ""
    }
   },
   "outputs": [],
   "source": [
    "SHOW CREATE TABLE pricing_analytics_vrs.gold.reporting_dim_product_gold_SCDTYPE1 \n"
   ]
  },
  {
   "cell_type": "code",
   "execution_count": 0,
   "metadata": {
    "application/vnd.databricks.v1+cell": {
     "cellMetadata": {
      "byteLimit": 2048000,
      "rowLimit": 10000
     },
     "inputWidgets": {},
     "nuid": "b60dfabd-3328-4b04-a7a0-17507dcf86a2",
     "showTitle": false,
     "tableResultSettingsMap": {},
     "title": ""
    }
   },
   "outputs": [],
   "source": [
    "CREATE TABLE IF NOT EXISTS pricing_analytics_vrs.gold.reporting_dim_product_gold_SCDTYPE2 (\n",
    "  PRODUCTGROUP_NAME STRING,\n",
    "  PRODUCT_NAME STRING,\n",
    "  PRODUCT_ID BIGINT,\n",
    "  start_date TIMESTAMP,\n",
    "  end_date TIMESTAMP,\n",
    "  lakehouse_inserted_date TIMESTAMP,\n",
    "  lakehouse_updated_date TIMESTAMP)\n",
    "USING delta"
   ]
  },
  {
   "cell_type": "code",
   "execution_count": 0,
   "metadata": {
    "application/vnd.databricks.v1+cell": {
     "cellMetadata": {
      "byteLimit": 2048000,
      "rowLimit": 10000
     },
     "inputWidgets": {},
     "nuid": "4e5c4696-3714-4989-aca1-309effeab9fc",
     "showTitle": false,
     "tableResultSettingsMap": {},
     "title": ""
    }
   },
   "outputs": [],
   "source": [
    "SELECT * FROM pricing_analytics_vrs.gold.reporting_dim_product_gold_SCDTYPE2 WHERe PRODUCT_NAME='Onion'"
   ]
  },
  {
   "cell_type": "code",
   "execution_count": 0,
   "metadata": {
    "application/vnd.databricks.v1+cell": {
     "cellMetadata": {
      "byteLimit": 2048000,
      "rowLimit": 10000
     },
     "inputWidgets": {},
     "nuid": "c60b7aae-2b00-4df8-ba13-ce9e108a7e90",
     "showTitle": false,
     "tableResultSettingsMap": {},
     "title": ""
    }
   },
   "outputs": [],
   "source": [
    "UPDATE pricing_analytics_vrs.silver.daily_pricing_silver\n",
    "SET PRODUCTGROUP_NAME='Ground Vegetables ',\n",
    "lakehouse_updated_date = current_timestamp()\n",
    "WHERE PRODUCT_NAME='Onion'"
   ]
  },
  {
   "cell_type": "code",
   "execution_count": 0,
   "metadata": {
    "application/vnd.databricks.v1+cell": {
     "cellMetadata": {
      "byteLimit": 2048000,
      "rowLimit": 10000
     },
     "inputWidgets": {},
     "nuid": "e2c6b70a-1163-4120-a80d-25ac93042255",
     "showTitle": false,
     "tableResultSettingsMap": {},
     "title": ""
    }
   },
   "outputs": [],
   "source": [
    "SELECT \n",
    " DISTINCT PRODUCT_NAME\n",
    " ,PRODUCTGROUP_NAME\n",
    "FROM pricing_analytics_vrs.silver.daily_pricing_silver\n",
    "WHERE PRODUCT_NAME='Onion'"
   ]
  },
  {
   "cell_type": "code",
   "execution_count": 0,
   "metadata": {
    "application/vnd.databricks.v1+cell": {
     "cellMetadata": {
      "byteLimit": 2048000,
      "rowLimit": 10000
     },
     "inputWidgets": {},
     "nuid": "63d0e121-5c3a-4820-8a74-bfb964c26b83",
     "showTitle": false,
     "tableResultSettingsMap": {},
     "title": ""
    }
   },
   "outputs": [],
   "source": [
    "CREATE OR REPLACE TABLE pricing_analytics_vrs.silver.reporting_dim_product_stage_1 AS\n",
    "SELECT \n",
    " DISTINCT PRODUCT_NAME\n",
    " ,PRODUCTGROUP_NAME\n",
    "FROM pricing_analytics_vrs.silver.daily_pricing_silver\n",
    "WHERE lakehouse_updated_date > (SELECT nvl(max(PROCESSED_TABLE_DATETIME),'1900-01-01') FROM pricing_analytics_vrs.processrunlogs.DELTALAKEHOUSE_PROCESS_RUNS \n",
    "WHERE process_name = 'reportingDimensionTablesLoadScdType2' AND process_status = 'Completed' );"
   ]
  },
  {
   "cell_type": "code",
   "execution_count": 0,
   "metadata": {
    "application/vnd.databricks.v1+cell": {
     "cellMetadata": {
      "byteLimit": 2048000,
      "rowLimit": 10000
     },
     "inputWidgets": {},
     "nuid": "22d1116d-5610-4f34-96f1-b2133eed9fc5",
     "showTitle": false,
     "tableResultSettingsMap": {},
     "title": ""
    }
   },
   "outputs": [],
   "source": [
    "CREATE OR REPLACE TABLE pricing_analytics_vrs.silver.reporting_dim_product_stage_2 AS \n",
    "SELECT \n",
    "  silverDim.PRODUCT_NAME\n",
    "  ,silverDim.PRODUCTGROUP_NAME\n",
    "  ,goldDim.PRODUCT_NAME AS GOLD_PRODUCT_NAME\n",
    "  ,goldDim.PRODUCT_ID AS GOLD_PRODUCT_ID\n",
    ",ROW_NUMBER() OVER (  ORDER BY silverDim.PRODUCT_NAME,silverDim.PRODUCTGROUP_NAME)  as PRODUCT_ID\n",
    " ,current_timestamp() as lakehouse_inserted_date\n",
    " ,current_timestamp() as lakehouse_updated_date\n",
    "FROM pricing_analytics_vrs.silver.reporting_dim_product_stage_1 silverDim\n",
    "LEFT OUTER JOIN pricing_analytics_vrs.gold.reporting_dim_product_gold_SCDTYPE2 goldDim\n",
    "ON silverDim.PRODUCT_NAME= goldDim.PRODUCT_NAME\n",
    "and goldDim.end_date IS NULL\n",
    "WHERE goldDim.PRODUCT_NAME IS NULL OR silverDim.PRODUCTGROUP_NAME <> goldDim.PRODUCTGROUP_NAME"
   ]
  },
  {
   "cell_type": "code",
   "execution_count": 0,
   "metadata": {
    "application/vnd.databricks.v1+cell": {
     "cellMetadata": {
      "byteLimit": 2048000,
      "rowLimit": 10000
     },
     "inputWidgets": {},
     "nuid": "6684385d-5f15-41e2-9cd8-feff93b8955b",
     "showTitle": false,
     "tableResultSettingsMap": {},
     "title": ""
    }
   },
   "outputs": [],
   "source": [
    "select * from pricing_analytics_vrs.silver.reporting_dim_product_stage_2"
   ]
  },
  {
   "cell_type": "code",
   "execution_count": 0,
   "metadata": {
    "application/vnd.databricks.v1+cell": {
     "cellMetadata": {
      "byteLimit": 2048000,
      "rowLimit": 10000
     },
     "inputWidgets": {},
     "nuid": "b7683f10-5abe-4a90-b28d-9c1277890a17",
     "showTitle": false,
     "tableResultSettingsMap": {},
     "title": ""
    }
   },
   "outputs": [],
   "source": [
    "CREATE OR REPLACE TABLE pricing_analytics_vrs.silver.reporting_dim_product_stage_3 AS \n",
    "SELECT\n",
    "  silverDim.PRODUCT_NAME\n",
    "  ,silverDim.PRODUCTGROUP_NAME\n",
    "  ,GOLD_PRODUCT_ID\n",
    " ,silverDim.PRODUCT_ID + PREV_MAX_SK_ID  as PRODUCT_ID\n",
    ",CASE WHEN GOLD_PRODUCT_NAME IS NULL THEN 'New' Else 'Changed' End as RECORD_STATUS\n",
    ",current_timestamp() as lakehouse_inserted_date\n",
    ",current_timestamp() as lakehouse_updated_date\n",
    "FROM \n",
    "pricing_analytics_vrs.silver.reporting_dim_product_stage_2 silverDim\n",
    "CROSS JOIN (SELECT nvl(MAX(PRODUCT_ID),0) as PREV_MAX_SK_ID FROM  pricing_analytics_vrs.gold.reporting_dim_product_gold_SCDTYPE2 ) goldDim;"
   ]
  },
  {
   "cell_type": "code",
   "execution_count": 0,
   "metadata": {
    "application/vnd.databricks.v1+cell": {
     "cellMetadata": {
      "byteLimit": 2048000,
      "rowLimit": 10000
     },
     "inputWidgets": {},
     "nuid": "5cd61f8b-fd41-4440-a026-71e56460bf47",
     "showTitle": false,
     "tableResultSettingsMap": {},
     "title": ""
    }
   },
   "outputs": [],
   "source": [
    "SELECT * FROM pricing_analytics_vrs.silver.reporting_dim_product_stage_3 \n",
    "WHERE RECORD_STATUS='Changed'\n"
   ]
  },
  {
   "cell_type": "code",
   "execution_count": 0,
   "metadata": {
    "application/vnd.databricks.v1+cell": {
     "cellMetadata": {
      "byteLimit": 2048000,
      "rowLimit": 10000
     },
     "inputWidgets": {},
     "nuid": "011934cf-048d-4774-bf0f-7f73898688c1",
     "showTitle": false,
     "tableResultSettingsMap": {},
     "title": ""
    }
   },
   "outputs": [],
   "source": [
    "MERGE INTO  pricing_analytics_vrs.gold.reporting_dim_product_gold_SCDTYPE2 goldDim\n",
    "USING pricing_analytics_vrs.silver.reporting_dim_product_stage_3 silverDim\n",
    "ON goldDim.PRODUCT_ID = silverDim.GOLD_PRODUCT_ID\n",
    "WHEN MATCHED THEN \n",
    "UPDATE SET goldDim.end_date=current_timestamp()\n",
    "          ,goldDim.lakehouse_updated_date=current_timestamp()\n",
    "WHEN NOT MATCHED  THEN\n",
    "INSERT (PRODUCTGROUP_NAME,PRODUCT_NAME,PRODUCT_ID,start_date,end_date,lakehouse_inserted_date,lakehouse_updated_date)\n",
    "VALUES (silverDim.PRODUCTGROUP_NAME,silverDim.PRODUCT_NAME,silverDim.PRODUCT_ID,current_timestamp(),NULL,current_timestamp(),current_timestamp())\n"
   ]
  },
  {
   "cell_type": "code",
   "execution_count": 0,
   "metadata": {
    "application/vnd.databricks.v1+cell": {
     "cellMetadata": {
      "byteLimit": 2048000,
      "rowLimit": 10000
     },
     "inputWidgets": {},
     "nuid": "5aa963c1-4f0b-43c1-be10-371776007f8b",
     "showTitle": false,
     "tableResultSettingsMap": {},
     "title": ""
    }
   },
   "outputs": [],
   "source": [
    "INSERT INTO pricing_analytics_vrs.gold.reporting_dim_product_gold_SCDTYPE2 \n",
    "SELECT\n",
    "PRODUCTGROUP_NAME\n",
    ",PRODUCT_NAME\n",
    ",PRODUCT_ID\n",
    ",current_timestamp()\n",
    ",NULL\n",
    ",current_timestamp()\n",
    ",current_timestamp()\n",
    "FROM pricing_analytics_vrs.silver.reporting_dim_product_stage_3\n",
    "WHERE RECORD_STATUS ='Changed'"
   ]
  },
  {
   "cell_type": "code",
   "execution_count": 0,
   "metadata": {
    "application/vnd.databricks.v1+cell": {
     "cellMetadata": {
      "byteLimit": 2048000,
      "rowLimit": 10000
     },
     "inputWidgets": {},
     "nuid": "6c8c3327-41d0-4a63-8d24-600b4d93fcde",
     "showTitle": false,
     "tableResultSettingsMap": {},
     "title": ""
    }
   },
   "outputs": [],
   "source": [
    "SELECT * FROM  pricing_analytics_vrs.gold.reporting_dim_product_gold_SCDTYPE2\n",
    "WHERE PRODUCT_NAME='Onion'"
   ]
  },
  {
   "cell_type": "code",
   "execution_count": 0,
   "metadata": {
    "application/vnd.databricks.v1+cell": {
     "cellMetadata": {
      "byteLimit": 2048000,
      "rowLimit": 10000
     },
     "inputWidgets": {},
     "nuid": "43b54de0-9c5e-47e3-9f01-e376c5fe20a3",
     "showTitle": false,
     "tableResultSettingsMap": {},
     "title": ""
    }
   },
   "outputs": [],
   "source": [
    "INSERT INTO  pricing_analytics.processrunlogs.DELTALAKEHOUSE_PROCESS_RUNS(PROCESS_NAME,PROCESSED_TABLE_DATETIME,PROCESS_STATUS)\n",
    "SELECT 'reportingDimensionTablesLoadScdType2' , max(lakehouse_updated_date) ,'Completed' FROM pricing_analytics_vrs.silver.daily_pricing_silver"
   ]
  }
 ],
 "metadata": {
  "application/vnd.databricks.v1+notebook": {
   "computePreferences": null,
   "dashboards": [],
   "environmentMetadata": {
    "base_environment": "",
    "environment_version": "1"
   },
   "inputWidgetPreferences": null,
   "language": "sql",
   "notebookMetadata": {
    "pythonIndentUnit": 4
   },
   "notebookName": "03-Transform-Reporting-Dimension-Tables-SCD-TYPE2",
   "widgets": {}
  },
  "language_info": {
   "name": "sql"
  }
 },
 "nbformat": 4,
 "nbformat_minor": 0
}
