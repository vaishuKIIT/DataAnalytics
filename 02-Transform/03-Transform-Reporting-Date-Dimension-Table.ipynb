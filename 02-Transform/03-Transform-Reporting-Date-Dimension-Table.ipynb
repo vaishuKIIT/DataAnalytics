{
 "cells": [
  {
   "cell_type": "code",
   "execution_count": 0,
   "metadata": {
    "application/vnd.databricks.v1+cell": {
     "cellMetadata": {
      "byteLimit": 2048000,
      "rowLimit": 10000
     },
     "inputWidgets": {},
     "nuid": "fa14a2cb-9958-4a9c-8ecb-4fa72b95aba8",
     "showTitle": false,
     "tableResultSettingsMap": {},
     "title": ""
    }
   },
   "outputs": [],
   "source": [
    "import pandas as pds\n",
    "\n",
    "sourceDatePandasDF = pds.date_range(start='1/1/2023', end='31/12/2025')\n",
    "\n",
    "sourceDateSparkDF = spark.createDataFrame(sourceDatePandasDF.to_frame())\n",
    "\n",
    "display(sourceDateSparkDF)\n"
   ]
  },
  {
   "cell_type": "code",
   "execution_count": 0,
   "metadata": {
    "application/vnd.databricks.v1+cell": {
     "cellMetadata": {
      "byteLimit": 2048000,
      "rowLimit": 10000
     },
     "inputWidgets": {},
     "nuid": "7d8be463-f8f2-4875-92c9-f037168633b7",
     "showTitle": false,
     "tableResultSettingsMap": {},
     "title": ""
    }
   },
   "outputs": [],
   "source": [
    "sourceDateSparkDF.withColumnRenamed('0', 'calendar_date').createOrReplaceTempView(\"source_date_dim\")"
   ]
  },
  {
   "cell_type": "code",
   "execution_count": 0,
   "metadata": {
    "application/vnd.databricks.v1+cell": {
     "cellMetadata": {
      "byteLimit": 2048000,
      "implicitDf": true,
      "rowLimit": 10000
     },
     "inputWidgets": {},
     "nuid": "8166235e-0543-4c19-a97c-2f520ab58ed8",
     "showTitle": false,
     "tableResultSettingsMap": {},
     "title": ""
    }
   },
   "outputs": [],
   "source": [
    "%sql\n",
    "SELECT * from source_date_dim"
   ]
  },
  {
   "cell_type": "code",
   "execution_count": 0,
   "metadata": {
    "application/vnd.databricks.v1+cell": {
     "cellMetadata": {
      "byteLimit": 2048000,
      "implicitDf": true,
      "rowLimit": 10000
     },
     "inputWidgets": {},
     "nuid": "5f635647-ed3e-4f6b-a5b7-34d7e1d1af2a",
     "showTitle": false,
     "tableResultSettingsMap": {},
     "title": ""
    }
   },
   "outputs": [],
   "source": [
    "%sql\n",
    "Use catalog pricing_analytics_vrs;\n",
    "Truncate table  gold.reporting_dim_date_gold;\n",
    "Insert Into gold.reporting_dim_date_gold (CALENDAR_DATE, DATE_ID, lakehouse_inserted_date, lakehouse_updated_date)\n",
    "SELECT \n",
    "substring(calendar_date ,1,10)\n",
    ",date_format(calendar_date, 'yyyyMMdd' )\n",
    ",current_timestamp()\n",
    ",current_timestamp()\n",
    "from source_date_dim"
   ]
  }
 ],
 "metadata": {
  "application/vnd.databricks.v1+notebook": {
   "computePreferences": null,
   "dashboards": [],
   "environmentMetadata": {
    "base_environment": "",
    "environment_version": "1"
   },
   "inputWidgetPreferences": null,
   "language": "python",
   "notebookMetadata": {
    "mostRecentlyExecutedCommandWithImplicitDF": {
     "commandId": 3885705274191802,
     "dataframes": [
      "_sqldf"
     ]
    },
    "pythonIndentUnit": 4
   },
   "notebookName": "03-Transform-Reporting-Date-Dimension-Table",
   "widgets": {}
  },
  "language_info": {
   "name": "python"
  }
 },
 "nbformat": 4,
 "nbformat_minor": 0
}
