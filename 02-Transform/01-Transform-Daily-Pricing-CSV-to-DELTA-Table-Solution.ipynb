{
 "cells": [
  {
   "cell_type": "code",
   "execution_count": 0,
   "metadata": {
    "application/vnd.databricks.v1+cell": {
     "cellMetadata": {},
     "inputWidgets": {},
     "nuid": "1f64d462-2392-4741-9d2a-c68301996663",
     "showTitle": false,
     "tableResultSettingsMap": {},
     "title": ""
    }
   },
   "outputs": [],
   "source": []
  },
  {
   "cell_type": "markdown",
   "metadata": {
    "application/vnd.databricks.v1+cell": {
     "cellMetadata": {},
     "inputWidgets": {},
     "nuid": "0d799a96-6e61-406b-a573-155f5361e598",
     "showTitle": false,
     "tableResultSettingsMap": {},
     "title": ""
    }
   },
   "source": [
    "####Notebook Name : 01-Transform-Daily-Pricing-CSV-to-DELTA-Table\n",
    "##### Source Table Details\n",
    "Source Table Name : pricing_analytics.bronze.daily_pricing\n",
    "Source Table New/Changed-Records Identification Column : source_file_load_date\n",
    "\n",
    "##### Target Table Details\n",
    "Target Table Name : pricing_analytics.silver.daily_pricing_silver\n",
    "\n",
    "\n",
    "##### Processrunlogs Table For Inctemental Load\n",
    "Processrunlogs Table Name : pricing_analytics.processrunlogs.DELTALAKEHOUSE_PROCESS_RUNS\n"
   ]
  },
  {
   "cell_type": "code",
   "execution_count": 0,
   "metadata": {
    "application/vnd.databricks.v1+cell": {
     "cellMetadata": {
      "byteLimit": 2048000,
      "rowLimit": 10000
     },
     "inputWidgets": {},
     "nuid": "f5cf505c-fba3-4167-92dd-f7ff53b5ec7e",
     "showTitle": false,
     "tableResultSettingsMap": {},
     "title": ""
    }
   },
   "outputs": [],
   "source": [
    "USE CATALOG pricing_analytics;\n",
    "INSERT INTO  silver.daily_pricing_silver\n",
    "SELECT\n",
    "to_date(DATE_OF_PRICING,'dd/MM/yyyy'),\n",
    "cast(ROW_ID as bigint) ,\n",
    "STATE_NAME,\n",
    "MARKET_NAME,\n",
    "PRODUCTGROUP_NAME,\n",
    "PRODUCT_NAME,\n",
    "VARIETY,\n",
    "ORIGIN,\n",
    "cast(ARRIVAL_IN_TONNES as decimal(18,2)),\n",
    "cast(MINIMUM_PRICE as decimal(36,2)),\n",
    "cast(MAXIMUM_PRICE as decimal(36,2)),\n",
    "cast(MODAL_PRICE as decimal(36,2)),\n",
    "source_file_load_date ,\n",
    "current_timestamp(),\n",
    "current_timestamp()\n",
    "FROM pricing_analytics.bronze.daily_pricing\n",
    "WHERE source_file_load_date > (SELECT nvl(max(PROCESSED_TABLE_DATETIME),'1900-01-01') FROM processrunlogs.DELTALAKEHOUSE_PROCESS_RUNS \n",
    "WHERE process_name = 'daily_pricing_silver' AND process_status = 'Completed' )\n"
   ]
  },
  {
   "cell_type": "code",
   "execution_count": 0,
   "metadata": {
    "application/vnd.databricks.v1+cell": {
     "cellMetadata": {
      "byteLimit": 2048000,
      "rowLimit": 10000
     },
     "inputWidgets": {},
     "nuid": "e677cf82-da8f-4155-9a40-3f0daf7eda20",
     "showTitle": false,
     "tableResultSettingsMap": {},
     "title": ""
    }
   },
   "outputs": [],
   "source": [
    "INSERT INTO  pricing_analytics.processrunlogs.DELTALAKEHOUSE_PROCESS_RUNS(PROCESS_NAME,PROCESSED_TABLE_DATETIME,PROCESS_STATUS)\n",
    "SELECT 'daily_pricing_silver' , max(source_file_load_date) ,'Completed' FROM pricing_analytics.silver.daily_pricing_silver;"
   ]
  }
 ],
 "metadata": {
  "application/vnd.databricks.v1+notebook": {
   "computePreferences": null,
   "dashboards": [],
   "environmentMetadata": {
    "base_environment": "",
    "environment_version": "1"
   },
   "inputWidgetPreferences": null,
   "language": "sql",
   "notebookMetadata": {
    "pythonIndentUnit": 4
   },
   "notebookName": "01-Transform-Daily-Pricing-CSV-to-DELTA-Table-Solution",
   "widgets": {}
  },
  "language_info": {
   "name": "sql"
  }
 },
 "nbformat": 4,
 "nbformat_minor": 0
}
