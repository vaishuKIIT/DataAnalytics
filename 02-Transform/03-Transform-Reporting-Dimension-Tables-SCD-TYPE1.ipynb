{
 "cells": [
  {
   "cell_type": "code",
   "execution_count": 0,
   "metadata": {
    "application/vnd.databricks.v1+cell": {
     "cellMetadata": {
      "byteLimit": 2048000,
      "rowLimit": 10000
     },
     "inputWidgets": {},
     "nuid": "e2c6b70a-1163-4120-a80d-25ac93042255",
     "showTitle": false,
     "tableResultSettingsMap": {},
     "title": ""
    }
   },
   "outputs": [],
   "source": [
    "SELECT \n",
    " DISTINCT PRODUCT_NAME\n",
    " ,PRODUCTGROUP_NAME\n",
    "FROM pricing_analytics_vrs.silver.daily_pricing_silver\n",
    "WHERE PRODUCT_NAME='Banana'"
   ]
  },
  {
   "cell_type": "code",
   "execution_count": 0,
   "metadata": {
    "application/vnd.databricks.v1+cell": {
     "cellMetadata": {
      "byteLimit": 2048000,
      "rowLimit": 10000
     },
     "inputWidgets": {},
     "nuid": "4c899308-6695-42ae-8dd2-e30db799b6a2",
     "showTitle": false,
     "tableResultSettingsMap": {},
     "title": ""
    }
   },
   "outputs": [],
   "source": [
    "CREATE TABLE IF NOT EXISTS pricing_analytics_vrs.gold.reporting_dim_product_gold_SCDTYPE1\n",
    " LIKE pricing_analytics_vrs.gold.reporting_dim_product_gold\n"
   ]
  },
  {
   "cell_type": "code",
   "execution_count": 0,
   "metadata": {
    "application/vnd.databricks.v1+cell": {
     "cellMetadata": {
      "byteLimit": 2048000,
      "rowLimit": 10000
     },
     "inputWidgets": {},
     "nuid": "3b074a50-5430-4f63-8be3-0a67892e06a2",
     "showTitle": false,
     "tableResultSettingsMap": {},
     "title": ""
    }
   },
   "outputs": [],
   "source": [
    "SELECT * FROM pricing_analytics_vrs.gold.reporting_dim_product_gold_SCDTYPE1\n",
    "WHERE PRODUCT_NAME='Banana'"
   ]
  },
  {
   "cell_type": "code",
   "execution_count": 0,
   "metadata": {
    "application/vnd.databricks.v1+cell": {
     "cellMetadata": {
      "byteLimit": 2048000,
      "rowLimit": 10000
     },
     "inputWidgets": {},
     "nuid": "c60b7aae-2b00-4df8-ba13-ce9e108a7e90",
     "showTitle": false,
     "tableResultSettingsMap": {},
     "title": ""
    }
   },
   "outputs": [],
   "source": [
    "UPDATE pricing_analytics_vrs.silver.daily_pricing_silver\n",
    "SET PRODUCTGROUP_NAME='Fruit',\n",
    "lakehouse_updated_date = current_timestamp()\n",
    "WHERE PRODUCT_NAME='Banana'"
   ]
  },
  {
   "cell_type": "code",
   "execution_count": 0,
   "metadata": {
    "application/vnd.databricks.v1+cell": {
     "cellMetadata": {
      "byteLimit": 2048000,
      "rowLimit": 10000
     },
     "inputWidgets": {},
     "nuid": "63d0e121-5c3a-4820-8a74-bfb964c26b83",
     "showTitle": false,
     "tableResultSettingsMap": {},
     "title": ""
    }
   },
   "outputs": [],
   "source": [
    "CREATE OR REPLACE TABLE pricing_analytics_vrs.silver.reporting_dim_product_stage_1 AS\n",
    "SELECT \n",
    " DISTINCT PRODUCT_NAME\n",
    " ,PRODUCTGROUP_NAME\n",
    "FROM pricing_analytics_vrs.silver.daily_pricing_silver\n",
    "WHERE lakehouse_updated_date > (SELECT nvl(max(PROCESSED_TABLE_DATETIME),'1900-01-01') FROM pricing_analytics_vrs.processrunlogs.DELTALAKEHOUSE_PROCESS_RUNS \n",
    "WHERE process_name = 'reportingDimensionTablesLoadScdType1' AND process_status = 'Completed' );"
   ]
  },
  {
   "cell_type": "code",
   "execution_count": 0,
   "metadata": {
    "application/vnd.databricks.v1+cell": {
     "cellMetadata": {
      "byteLimit": 2048000,
      "rowLimit": 10000
     },
     "inputWidgets": {},
     "nuid": "ff924d2c-907e-4a8b-aab7-451a042ab3e8",
     "showTitle": false,
     "tableResultSettingsMap": {},
     "title": ""
    }
   },
   "outputs": [],
   "source": [
    "SELECT * FROM pricing_analytics_vrs.silver.reporting_dim_product_stage_1 "
   ]
  },
  {
   "cell_type": "code",
   "execution_count": 0,
   "metadata": {
    "application/vnd.databricks.v1+cell": {
     "cellMetadata": {
      "byteLimit": 2048000,
      "rowLimit": 10000
     },
     "inputWidgets": {},
     "nuid": "22d1116d-5610-4f34-96f1-b2133eed9fc5",
     "showTitle": false,
     "tableResultSettingsMap": {},
     "title": ""
    }
   },
   "outputs": [],
   "source": [
    "CREATE OR REPLACE TABLE pricing_analytics_vrs.silver.reporting_dim_product_stage_2 AS \n",
    "SELECT \n",
    "  silverDim.PRODUCT_NAME\n",
    "  ,silverDim.PRODUCTGROUP_NAME\n",
    "  ,goldDim.PRODUCT_NAME AS GOLD_PRODUCT_NAME\n",
    " ,CASE WHEN goldDim.PRODUCT_NAME IS NULL\n",
    " THEN ROW_NUMBER() OVER (  ORDER BY silverDim.PRODUCT_NAME,silverDim.PRODUCTGROUP_NAME) \n",
    " ELSE goldDim.PRODUCT_ID END as PRODUCT_ID\n",
    " ,current_timestamp() as lakehouse_inserted_date\n",
    " ,current_timestamp() as lakehouse_updated_date\n",
    "FROM pricing_analytics_vrs.silver.reporting_dim_product_stage_1 silverDim\n",
    "LEFT OUTER JOIN pricing_analytics_vrs.gold.reporting_dim_product_gold_SCDTYPE1 goldDim\n",
    "ON silverDim.PRODUCT_NAME= goldDim.PRODUCT_NAME\n",
    "WHERE goldDim.PRODUCT_NAME IS NULL OR silverDim.PRODUCTGROUP_NAME <> goldDim.PRODUCTGROUP_NAME"
   ]
  },
  {
   "cell_type": "code",
   "execution_count": 0,
   "metadata": {
    "application/vnd.databricks.v1+cell": {
     "cellMetadata": {
      "byteLimit": 2048000,
      "rowLimit": 10000
     },
     "inputWidgets": {},
     "nuid": "84bf3b62-e511-4441-8cfb-be9414c8748d",
     "showTitle": false,
     "tableResultSettingsMap": {},
     "title": ""
    }
   },
   "outputs": [],
   "source": [
    "SELECT * FROM pricing_analytics_vrs.silver.reporting_dim_product_stage_2"
   ]
  },
  {
   "cell_type": "code",
   "execution_count": 0,
   "metadata": {
    "application/vnd.databricks.v1+cell": {
     "cellMetadata": {
      "byteLimit": 2048000,
      "rowLimit": 10000
     },
     "inputWidgets": {},
     "nuid": "b7683f10-5abe-4a90-b28d-9c1277890a17",
     "showTitle": false,
     "tableResultSettingsMap": {},
     "title": ""
    }
   },
   "outputs": [],
   "source": [
    "CREATE OR REPLACE TABLE pricing_analytics_vrs.silver.reporting_dim_product_stage_3 AS \n",
    "SELECT\n",
    "  silverDim.PRODUCTGROUP_NAME\n",
    "  ,silverDim.PRODUCT_NAME\n",
    ",CASE WHEN GOLD_PRODUCT_NAME IS NULL\n",
    "THEN silverDim.PRODUCT_ID + PREV_MAX_SK_ID \n",
    "ELSE PRODUCT_ID END as PRODUCT_ID\n",
    ",current_timestamp() as lakehouse_inserted_date\n",
    ",current_timestamp() as lakehouse_updated_date\n",
    "FROM \n",
    "pricing_analytics_vrs.silver.reporting_dim_product_stage_2 silverDim\n",
    "CROSS JOIN (SELECT nvl(MAX(PRODUCT_ID),0) as PREV_MAX_SK_ID FROM pricing_analytics_vrs.gold.reporting_dim_product_gold_SCDTYPE1 ) goldDim;"
   ]
  },
  {
   "cell_type": "code",
   "execution_count": 0,
   "metadata": {
    "application/vnd.databricks.v1+cell": {
     "cellMetadata": {
      "byteLimit": 2048000,
      "rowLimit": 10000
     },
     "inputWidgets": {},
     "nuid": "5cd61f8b-fd41-4440-a026-71e56460bf47",
     "showTitle": false,
     "tableResultSettingsMap": {},
     "title": ""
    }
   },
   "outputs": [],
   "source": [
    "SELECT * FROM pricing_analytics_vrs.silver.reporting_dim_product_stage_3"
   ]
  },
  {
   "cell_type": "code",
   "execution_count": 0,
   "metadata": {
    "application/vnd.databricks.v1+cell": {
     "cellMetadata": {
      "byteLimit": 2048000,
      "rowLimit": 10000
     },
     "inputWidgets": {},
     "nuid": "011934cf-048d-4774-bf0f-7f73898688c1",
     "showTitle": false,
     "tableResultSettingsMap": {},
     "title": ""
    }
   },
   "outputs": [],
   "source": [
    "MERGE INTO pricing_analytics_vrs.gold.reporting_dim_product_gold_SCDTYPE1 goldDim\n",
    "USING pricing_analytics_vrs.silver.reporting_dim_product_stage_3 silverDim\n",
    "ON goldDim.PRODUCT_NAME = silverDim.PRODUCT_NAME\n",
    "WHEN MATCHED THEN \n",
    "UPDATE SET goldDim.PRODUCTGROUP_NAME=silverDim.PRODUCTGROUP_NAME\n",
    "           ,goldDim.lakehouse_updated_date=current_timestamp()\n",
    "WHEN NOT MATCHED THEN\n",
    "INSERT *"
   ]
  },
  {
   "cell_type": "code",
   "execution_count": 0,
   "metadata": {
    "application/vnd.databricks.v1+cell": {
     "cellMetadata": {
      "byteLimit": 2048000,
      "rowLimit": 10000
     },
     "inputWidgets": {},
     "nuid": "6c8c3327-41d0-4a63-8d24-600b4d93fcde",
     "showTitle": false,
     "tableResultSettingsMap": {},
     "title": ""
    }
   },
   "outputs": [],
   "source": [
    "SELECT * FROM pricing_analytics_vrs.gold.reporting_dim_product_gold_SCDTYPE1\n",
    "WHERE PRODUCT_NAME='Banana'"
   ]
  },
  {
   "cell_type": "code",
   "execution_count": 0,
   "metadata": {
    "application/vnd.databricks.v1+cell": {
     "cellMetadata": {
      "byteLimit": 2048000,
      "rowLimit": 10000
     },
     "inputWidgets": {},
     "nuid": "43b54de0-9c5e-47e3-9f01-e376c5fe20a3",
     "showTitle": false,
     "tableResultSettingsMap": {},
     "title": ""
    }
   },
   "outputs": [],
   "source": [
    "INSERT INTO  pricing_analytics_vrs.processrunlogs.DELTALAKEHOUSE_PROCESS_RUNS(PROCESS_NAME,PROCESSED_TABLE_DATETIME,PROCESS_STATUS)\n",
    "SELECT 'reportingDimensionTablesLoadScdType1' , max(lakehouse_updated_date) ,'Completed' FROM pricing_analytics_vrs.silver.daily_pricing_silver"
   ]
  }
 ],
 "metadata": {
  "application/vnd.databricks.v1+notebook": {
   "computePreferences": null,
   "dashboards": [],
   "environmentMetadata": {
    "base_environment": "",
    "environment_version": "1"
   },
   "inputWidgetPreferences": null,
   "language": "sql",
   "notebookMetadata": {
    "pythonIndentUnit": 4
   },
   "notebookName": "03-Transform-Reporting-Dimension-Tables-SCD-TYPE1",
   "widgets": {}
  },
  "language_info": {
   "name": "sql"
  }
 },
 "nbformat": 4,
 "nbformat_minor": 0
}
